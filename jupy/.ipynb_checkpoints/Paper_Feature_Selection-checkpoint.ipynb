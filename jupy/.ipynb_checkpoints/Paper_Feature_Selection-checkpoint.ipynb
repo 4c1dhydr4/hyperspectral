{
 "cells": [
  {
   "cell_type": "code",
   "execution_count": 2,
   "metadata": {},
   "outputs": [],
   "source": [
    "import pandas as pd\n",
    "import matplotlib.pyplot as plt"
   ]
  },
  {
   "cell_type": "code",
   "execution_count": 4,
   "metadata": {},
   "outputs": [],
   "source": [
    "path = \"D:\\\\Sistema THz\\\\data_polyscan\\\\\"\n",
    "image_45 = pd.read_csv(path + 'img_2147483645_data.txt', sep='\\t', header=None)\n",
    "image_45_line = pd.read_csv(path + \"img_2147483645_line.txt\", sep='\\t', header=None)"
   ]
  },
  {
   "cell_type": "code",
   "execution_count": 5,
   "metadata": {},
   "outputs": [
    {
     "data": {
      "text/html": [
       "<div>\n",
       "<style scoped>\n",
       "    .dataframe tbody tr th:only-of-type {\n",
       "        vertical-align: middle;\n",
       "    }\n",
       "\n",
       "    .dataframe tbody tr th {\n",
       "        vertical-align: top;\n",
       "    }\n",
       "\n",
       "    .dataframe thead th {\n",
       "        text-align: right;\n",
       "    }\n",
       "</style>\n",
       "<table border=\"1\" class=\"dataframe\">\n",
       "  <thead>\n",
       "    <tr style=\"text-align: right;\">\n",
       "      <th></th>\n",
       "      <th>0</th>\n",
       "      <th>1</th>\n",
       "      <th>2</th>\n",
       "      <th>3</th>\n",
       "      <th>4</th>\n",
       "      <th>5</th>\n",
       "      <th>6</th>\n",
       "      <th>7</th>\n",
       "      <th>8</th>\n",
       "      <th>9</th>\n",
       "      <th>...</th>\n",
       "      <th>9657</th>\n",
       "      <th>9658</th>\n",
       "      <th>9659</th>\n",
       "      <th>9660</th>\n",
       "      <th>9661</th>\n",
       "      <th>9662</th>\n",
       "      <th>9663</th>\n",
       "      <th>9664</th>\n",
       "      <th>9665</th>\n",
       "      <th>9666</th>\n",
       "    </tr>\n",
       "  </thead>\n",
       "  <tbody>\n",
       "    <tr>\n",
       "      <th>0</th>\n",
       "      <td>0.0</td>\n",
       "      <td>0.0</td>\n",
       "      <td>0.0</td>\n",
       "      <td>-6.797000</td>\n",
       "      <td>-6.797000</td>\n",
       "      <td>-6.797000</td>\n",
       "      <td>-6.797000</td>\n",
       "      <td>-6.797000</td>\n",
       "      <td>-6.776776</td>\n",
       "      <td>-6.582757</td>\n",
       "      <td>...</td>\n",
       "      <td>11.558822</td>\n",
       "      <td>11.771205</td>\n",
       "      <td>11.957538</td>\n",
       "      <td>12.153934</td>\n",
       "      <td>12.365645</td>\n",
       "      <td>12.572962</td>\n",
       "      <td>12.802300</td>\n",
       "      <td>13.009446</td>\n",
       "      <td>13.092251</td>\n",
       "      <td>13.097774</td>\n",
       "    </tr>\n",
       "    <tr>\n",
       "      <th>1</th>\n",
       "      <td>0.0</td>\n",
       "      <td>0.0</td>\n",
       "      <td>0.0</td>\n",
       "      <td>-5.120000</td>\n",
       "      <td>-5.120000</td>\n",
       "      <td>-5.120000</td>\n",
       "      <td>-5.120000</td>\n",
       "      <td>-5.120000</td>\n",
       "      <td>-5.120000</td>\n",
       "      <td>-5.120000</td>\n",
       "      <td>...</td>\n",
       "      <td>13.488563</td>\n",
       "      <td>13.490000</td>\n",
       "      <td>13.481000</td>\n",
       "      <td>13.481000</td>\n",
       "      <td>13.481000</td>\n",
       "      <td>13.470003</td>\n",
       "      <td>13.481000</td>\n",
       "      <td>13.475081</td>\n",
       "      <td>13.424978</td>\n",
       "      <td>13.500000</td>\n",
       "    </tr>\n",
       "    <tr>\n",
       "      <th>2</th>\n",
       "      <td>0.0</td>\n",
       "      <td>0.0</td>\n",
       "      <td>0.0</td>\n",
       "      <td>-0.026683</td>\n",
       "      <td>-0.002452</td>\n",
       "      <td>-0.021949</td>\n",
       "      <td>-0.023973</td>\n",
       "      <td>-0.001308</td>\n",
       "      <td>0.017763</td>\n",
       "      <td>0.012555</td>\n",
       "      <td>...</td>\n",
       "      <td>-0.001919</td>\n",
       "      <td>0.037903</td>\n",
       "      <td>-0.012263</td>\n",
       "      <td>0.005223</td>\n",
       "      <td>-0.010198</td>\n",
       "      <td>-0.004603</td>\n",
       "      <td>-0.042729</td>\n",
       "      <td>-0.038103</td>\n",
       "      <td>-0.049731</td>\n",
       "      <td>-0.003119</td>\n",
       "    </tr>\n",
       "    <tr>\n",
       "      <th>3</th>\n",
       "      <td>0.0</td>\n",
       "      <td>0.0</td>\n",
       "      <td>0.0</td>\n",
       "      <td>-0.019813</td>\n",
       "      <td>-0.027288</td>\n",
       "      <td>-0.019964</td>\n",
       "      <td>-0.016213</td>\n",
       "      <td>-0.018536</td>\n",
       "      <td>-0.028691</td>\n",
       "      <td>-0.020141</td>\n",
       "      <td>...</td>\n",
       "      <td>-0.026521</td>\n",
       "      <td>-0.041681</td>\n",
       "      <td>-0.023324</td>\n",
       "      <td>-0.008574</td>\n",
       "      <td>-0.016356</td>\n",
       "      <td>-0.016884</td>\n",
       "      <td>-0.008931</td>\n",
       "      <td>-0.014013</td>\n",
       "      <td>0.015071</td>\n",
       "      <td>-0.003434</td>\n",
       "    </tr>\n",
       "    <tr>\n",
       "      <th>4</th>\n",
       "      <td>0.0</td>\n",
       "      <td>0.0</td>\n",
       "      <td>0.0</td>\n",
       "      <td>-0.035616</td>\n",
       "      <td>-0.007022</td>\n",
       "      <td>0.013955</td>\n",
       "      <td>0.007370</td>\n",
       "      <td>-0.018824</td>\n",
       "      <td>-0.005764</td>\n",
       "      <td>-0.019012</td>\n",
       "      <td>...</td>\n",
       "      <td>-0.038128</td>\n",
       "      <td>-0.007563</td>\n",
       "      <td>-0.012695</td>\n",
       "      <td>0.012556</td>\n",
       "      <td>0.008576</td>\n",
       "      <td>-0.024817</td>\n",
       "      <td>-0.038440</td>\n",
       "      <td>-0.035432</td>\n",
       "      <td>-0.027293</td>\n",
       "      <td>-0.014463</td>\n",
       "    </tr>\n",
       "  </tbody>\n",
       "</table>\n",
       "<p>5 rows × 9667 columns</p>\n",
       "</div>"
      ],
      "text/plain": [
       "   0     1     2         3         4         5         6         7     \\\n",
       "0   0.0   0.0   0.0 -6.797000 -6.797000 -6.797000 -6.797000 -6.797000   \n",
       "1   0.0   0.0   0.0 -5.120000 -5.120000 -5.120000 -5.120000 -5.120000   \n",
       "2   0.0   0.0   0.0 -0.026683 -0.002452 -0.021949 -0.023973 -0.001308   \n",
       "3   0.0   0.0   0.0 -0.019813 -0.027288 -0.019964 -0.016213 -0.018536   \n",
       "4   0.0   0.0   0.0 -0.035616 -0.007022  0.013955  0.007370 -0.018824   \n",
       "\n",
       "       8         9     ...       9657       9658       9659       9660  \\\n",
       "0 -6.776776 -6.582757  ...  11.558822  11.771205  11.957538  12.153934   \n",
       "1 -5.120000 -5.120000  ...  13.488563  13.490000  13.481000  13.481000   \n",
       "2  0.017763  0.012555  ...  -0.001919   0.037903  -0.012263   0.005223   \n",
       "3 -0.028691 -0.020141  ...  -0.026521  -0.041681  -0.023324  -0.008574   \n",
       "4 -0.005764 -0.019012  ...  -0.038128  -0.007563  -0.012695   0.012556   \n",
       "\n",
       "        9661       9662       9663       9664       9665       9666  \n",
       "0  12.365645  12.572962  12.802300  13.009446  13.092251  13.097774  \n",
       "1  13.481000  13.470003  13.481000  13.475081  13.424978  13.500000  \n",
       "2  -0.010198  -0.004603  -0.042729  -0.038103  -0.049731  -0.003119  \n",
       "3  -0.016356  -0.016884  -0.008931  -0.014013   0.015071  -0.003434  \n",
       "4   0.008576  -0.024817  -0.038440  -0.035432  -0.027293  -0.014463  \n",
       "\n",
       "[5 rows x 9667 columns]"
      ]
     },
     "execution_count": 5,
     "metadata": {},
     "output_type": "execute_result"
    }
   ],
   "source": [
    "image_45.head()"
   ]
  },
  {
   "cell_type": "code",
   "execution_count": 6,
   "metadata": {},
   "outputs": [
    {
     "data": {
      "text/html": [
       "<div>\n",
       "<style scoped>\n",
       "    .dataframe tbody tr th:only-of-type {\n",
       "        vertical-align: middle;\n",
       "    }\n",
       "\n",
       "    .dataframe tbody tr th {\n",
       "        vertical-align: top;\n",
       "    }\n",
       "\n",
       "    .dataframe thead th {\n",
       "        text-align: right;\n",
       "    }\n",
       "</style>\n",
       "<table border=\"1\" class=\"dataframe\">\n",
       "  <thead>\n",
       "    <tr style=\"text-align: right;\">\n",
       "      <th></th>\n",
       "      <th>0</th>\n",
       "    </tr>\n",
       "  </thead>\n",
       "  <tbody>\n",
       "    <tr>\n",
       "      <th>0</th>\n",
       "      <td>105</td>\n",
       "    </tr>\n",
       "    <tr>\n",
       "      <th>1</th>\n",
       "      <td>107</td>\n",
       "    </tr>\n",
       "    <tr>\n",
       "      <th>2</th>\n",
       "      <td>106</td>\n",
       "    </tr>\n",
       "    <tr>\n",
       "      <th>3</th>\n",
       "      <td>101</td>\n",
       "    </tr>\n",
       "    <tr>\n",
       "      <th>4</th>\n",
       "      <td>102</td>\n",
       "    </tr>\n",
       "  </tbody>\n",
       "</table>\n",
       "</div>"
      ],
      "text/plain": [
       "     0\n",
       "0  105\n",
       "1  107\n",
       "2  106\n",
       "3  101\n",
       "4  102"
      ]
     },
     "execution_count": 6,
     "metadata": {},
     "output_type": "execute_result"
    }
   ],
   "source": [
    "image_45_line.head()"
   ]
  },
  {
   "cell_type": "code",
   "execution_count": 7,
   "metadata": {},
   "outputs": [
    {
     "data": {
      "text/plain": [
       "(2050, 9667)"
      ]
     },
     "execution_count": 7,
     "metadata": {},
     "output_type": "execute_result"
    }
   ],
   "source": [
    "image_45.shape"
   ]
  },
  {
   "cell_type": "code",
   "execution_count": 8,
   "metadata": {},
   "outputs": [
    {
     "data": {
      "image/png": "[encoded data removed]",
      "text/plain": [
       "<Figure size 432x288 with 1 Axes>"
      ]
     },
     "metadata": {
      "needs_background": "light"
     },
     "output_type": "display_data"
    }
   ],
   "source": [
    "image_45.iloc[:,100].plot()\n",
    "plt.show()"
   ]
  },
  {
   "cell_type": "code",
   "execution_count": 17,
   "metadata": {},
   "outputs": [
    {
     "data": {
      "image/png": "[encoded data removed]",
      "text/plain": [
       "<Figure size 432x288 with 1 Axes>"
      ]
     },
     "metadata": {
      "needs_background": "light"
     },
     "output_type": "display_data"
    }
   ],
   "source": [
    "image_45.iloc[100,:].plot()\n",
    "plt.show()"
   ]
  },
  {
   "cell_type": "code",
   "execution_count": null,
   "metadata": {},
   "outputs": [],
   "source": []
  }
 ],
 "metadata": {
  "kernelspec": {
   "display_name": "Python 3",
   "language": "python",
   "name": "python3"
  },
  "language_info": {
   "codemirror_mode": {
    "name": "ipython",
    "version": 3
   },
   "file_extension": ".py",
   "mimetype": "text/x-python",
   "name": "python",
   "nbconvert_exporter": "python",
   "pygments_lexer": "ipython3",
   "version": "3.6.8"
  }
 },
 "nbformat": 4,
 "nbformat_minor": 2
}

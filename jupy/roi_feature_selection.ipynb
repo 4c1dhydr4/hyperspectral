{
 "cells": [
  {
   "cell_type": "markdown",
   "metadata": {},
   "source": [
    "# Selección de Variables a ROI"
   ]
  },
  {
   "cell_type": "markdown",
   "metadata": {},
   "source": [
    "#### Iniciamos cargando el set de datos de la ROI y las librerías correspondientes"
   ]
  },
  {
   "cell_type": "code",
   "execution_count": 75,
   "metadata": {},
   "outputs": [],
   "source": [
    "import pandas as pd\n",
    "import numpy as np\n",
    "from sklearn.feature_selection import (SelectKBest, chi2, \n",
    "    mutual_info_classif, f_regression, SelectPercentile)\n",
    "\n",
    "\n",
    "roi = pd.read_csv('test.roi.txt',sep='\\t')"
   ]
  },
  {
   "cell_type": "code",
   "execution_count": 76,
   "metadata": {},
   "outputs": [
    {
     "data": {
      "text/html": [
       "<div>\n",
       "<style scoped>\n",
       "    .dataframe tbody tr th:only-of-type {\n",
       "        vertical-align: middle;\n",
       "    }\n",
       "\n",
       "    .dataframe tbody tr th {\n",
       "        vertical-align: top;\n",
       "    }\n",
       "\n",
       "    .dataframe thead th {\n",
       "        text-align: right;\n",
       "    }\n",
       "</style>\n",
       "<table border=\"1\" class=\"dataframe\">\n",
       "  <thead>\n",
       "    <tr style=\"text-align: right;\">\n",
       "      <th></th>\n",
       "      <th>band_1</th>\n",
       "      <th>band_2</th>\n",
       "      <th>band_3</th>\n",
       "      <th>band_4</th>\n",
       "      <th>band_5</th>\n",
       "      <th>band_6</th>\n",
       "      <th>band_7</th>\n",
       "      <th>band_8</th>\n",
       "      <th>band_9</th>\n",
       "      <th>band_10</th>\n",
       "      <th>...</th>\n",
       "      <th>band_141</th>\n",
       "      <th>band_142</th>\n",
       "      <th>band_143</th>\n",
       "      <th>band_144</th>\n",
       "      <th>band_145</th>\n",
       "      <th>band_146</th>\n",
       "      <th>band_147</th>\n",
       "      <th>band_148</th>\n",
       "      <th>band_149</th>\n",
       "      <th>band_150</th>\n",
       "    </tr>\n",
       "  </thead>\n",
       "  <tbody>\n",
       "    <tr>\n",
       "      <td>0</td>\n",
       "      <td>6218</td>\n",
       "      <td>3633</td>\n",
       "      <td>2933</td>\n",
       "      <td>2281</td>\n",
       "      <td>1731</td>\n",
       "      <td>1313</td>\n",
       "      <td>1168</td>\n",
       "      <td>1209</td>\n",
       "      <td>1189</td>\n",
       "      <td>1173</td>\n",
       "      <td>...</td>\n",
       "      <td>12544</td>\n",
       "      <td>11296</td>\n",
       "      <td>11231</td>\n",
       "      <td>10229</td>\n",
       "      <td>11296</td>\n",
       "      <td>12610</td>\n",
       "      <td>11075</td>\n",
       "      <td>12152</td>\n",
       "      <td>10252</td>\n",
       "      <td>15574.0</td>\n",
       "    </tr>\n",
       "    <tr>\n",
       "      <td>1</td>\n",
       "      <td>3849</td>\n",
       "      <td>2266</td>\n",
       "      <td>1863</td>\n",
       "      <td>1566</td>\n",
       "      <td>1248</td>\n",
       "      <td>884</td>\n",
       "      <td>1018</td>\n",
       "      <td>846</td>\n",
       "      <td>716</td>\n",
       "      <td>686</td>\n",
       "      <td>...</td>\n",
       "      <td>11058</td>\n",
       "      <td>11173</td>\n",
       "      <td>10194</td>\n",
       "      <td>11480</td>\n",
       "      <td>10194</td>\n",
       "      <td>9604</td>\n",
       "      <td>10829</td>\n",
       "      <td>11488</td>\n",
       "      <td>9263</td>\n",
       "      <td>12581.0</td>\n",
       "    </tr>\n",
       "    <tr>\n",
       "      <td>2</td>\n",
       "      <td>3917</td>\n",
       "      <td>3413</td>\n",
       "      <td>2579</td>\n",
       "      <td>2008</td>\n",
       "      <td>1503</td>\n",
       "      <td>998</td>\n",
       "      <td>926</td>\n",
       "      <td>803</td>\n",
       "      <td>744</td>\n",
       "      <td>654</td>\n",
       "      <td>...</td>\n",
       "      <td>10357</td>\n",
       "      <td>10584</td>\n",
       "      <td>9716</td>\n",
       "      <td>10052</td>\n",
       "      <td>10934</td>\n",
       "      <td>11330</td>\n",
       "      <td>11669</td>\n",
       "      <td>12081</td>\n",
       "      <td>13281</td>\n",
       "      <td>7405.0</td>\n",
       "    </tr>\n",
       "    <tr>\n",
       "      <td>3</td>\n",
       "      <td>6371</td>\n",
       "      <td>5722</td>\n",
       "      <td>2476</td>\n",
       "      <td>2027</td>\n",
       "      <td>1562</td>\n",
       "      <td>1219</td>\n",
       "      <td>997</td>\n",
       "      <td>831</td>\n",
       "      <td>710</td>\n",
       "      <td>728</td>\n",
       "      <td>...</td>\n",
       "      <td>11928</td>\n",
       "      <td>10858</td>\n",
       "      <td>11112</td>\n",
       "      <td>10491</td>\n",
       "      <td>11585</td>\n",
       "      <td>12246</td>\n",
       "      <td>11619</td>\n",
       "      <td>11222</td>\n",
       "      <td>9557</td>\n",
       "      <td>11005.0</td>\n",
       "    </tr>\n",
       "    <tr>\n",
       "      <td>4</td>\n",
       "      <td>6679</td>\n",
       "      <td>4595</td>\n",
       "      <td>3794</td>\n",
       "      <td>1677</td>\n",
       "      <td>995</td>\n",
       "      <td>1123</td>\n",
       "      <td>872</td>\n",
       "      <td>702</td>\n",
       "      <td>849</td>\n",
       "      <td>727</td>\n",
       "      <td>...</td>\n",
       "      <td>10617</td>\n",
       "      <td>9774</td>\n",
       "      <td>11274</td>\n",
       "      <td>10031</td>\n",
       "      <td>10004</td>\n",
       "      <td>9790</td>\n",
       "      <td>9994</td>\n",
       "      <td>10055</td>\n",
       "      <td>11053</td>\n",
       "      <td>11251.0</td>\n",
       "    </tr>\n",
       "  </tbody>\n",
       "</table>\n",
       "<p>5 rows × 150 columns</p>\n",
       "</div>"
      ],
      "text/plain": [
       "   band_1  band_2  band_3  band_4  band_5  band_6  band_7  band_8  band_9  \\\n",
       "0    6218    3633    2933    2281    1731    1313    1168    1209    1189   \n",
       "1    3849    2266    1863    1566    1248     884    1018     846     716   \n",
       "2    3917    3413    2579    2008    1503     998     926     803     744   \n",
       "3    6371    5722    2476    2027    1562    1219     997     831     710   \n",
       "4    6679    4595    3794    1677     995    1123     872     702     849   \n",
       "\n",
       "   band_10  ...  band_141  band_142  band_143  band_144  band_145  band_146  \\\n",
       "0     1173  ...     12544     11296     11231     10229     11296     12610   \n",
       "1      686  ...     11058     11173     10194     11480     10194      9604   \n",
       "2      654  ...     10357     10584      9716     10052     10934     11330   \n",
       "3      728  ...     11928     10858     11112     10491     11585     12246   \n",
       "4      727  ...     10617      9774     11274     10031     10004      9790   \n",
       "\n",
       "   band_147  band_148  band_149  band_150  \n",
       "0     11075     12152     10252   15574.0  \n",
       "1     10829     11488      9263   12581.0  \n",
       "2     11669     12081     13281    7405.0  \n",
       "3     11619     11222      9557   11005.0  \n",
       "4      9994     10055     11053   11251.0  \n",
       "\n",
       "[5 rows x 150 columns]"
      ]
     },
     "execution_count": 76,
     "metadata": {},
     "output_type": "execute_result"
    }
   ],
   "source": [
    "roi.head()"
   ]
  },
  {
   "cell_type": "code",
   "execution_count": 77,
   "metadata": {},
   "outputs": [
    {
     "data": {
      "text/plain": [
       "(1068, 150)"
      ]
     },
     "execution_count": 77,
     "metadata": {},
     "output_type": "execute_result"
    }
   ],
   "source": [
    "roi.shape"
   ]
  },
  {
   "cell_type": "markdown",
   "metadata": {},
   "source": [
    "# Graficamos un conjunto de datos"
   ]
  },
  {
   "cell_type": "code",
   "execution_count": 163,
   "metadata": {},
   "outputs": [
    {
     "data": {
      "text/plain": [
       "<matplotlib.collections.PathCollection at 0x198a7cfcd68>"
      ]
     },
     "execution_count": 163,
     "metadata": {},
     "output_type": "execute_result"
    },
    {
     "data": {
      "image/png": "[encoded data removed]",
      "text/plain": [
       "<Figure size 432x288 with 1 Axes>"
      ]
     },
     "metadata": {
      "needs_background": "light"
     },
     "output_type": "display_data"
    }
   ],
   "source": [
    "from matplotlib import pyplot as plt\n",
    "plt.scatter(range(0,1068), roi.iloc[:,100], color='#FF382F')"
   ]
  },
  {
   "cell_type": "code",
   "execution_count": 79,
   "metadata": {},
   "outputs": [
    {
     "data": {
      "text/plain": [
       "[<matplotlib.lines.Line2D at 0x198a5ddada0>]"
      ]
     },
     "execution_count": 79,
     "metadata": {},
     "output_type": "execute_result"
    },
    {
     "data": {
      "image/png": "[encoded data removed]",
      "text/plain": [
       "<Figure size 432x288 with 1 Axes>"
      ]
     },
     "metadata": {
      "needs_background": "light"
     },
     "output_type": "display_data"
    }
   ],
   "source": [
    "from matplotlib import pyplot as plt\n",
    "plt.plot(range(0,150), roi.iloc[10,:])"
   ]
  },
  {
   "cell_type": "code",
   "execution_count": 80,
   "metadata": {},
   "outputs": [
    {
     "data": {
      "text/plain": [
       "array([[ 6218,  3633,  2933, ..., 12152, 10252, 15574],\n",
       "       [ 3849,  2266,  1863, ..., 11488,  9263, 12581],\n",
       "       [ 3917,  3413,  2579, ..., 12081, 13281,  7405],\n",
       "       ...,\n",
       "       [ 6767,  2205,  1833, ..., 11382, 10371, 13181],\n",
       "       [ 2776,  2266,  1650, ..., 11918,  8027, 14087],\n",
       "       [ 5370,  2548,  2145, ..., 11227,  7561, 12978]])"
      ]
     },
     "execution_count": 80,
     "metadata": {},
     "output_type": "execute_result"
    }
   ],
   "source": [
    "roi.iloc[:,20:140].shape\n",
    "np.int_(roi.iloc[:,0:150])"
   ]
  },
  {
   "cell_type": "code",
   "execution_count": 132,
   "metadata": {},
   "outputs": [],
   "source": [
    "kbest = SelectKBest(chi2, k=20)"
   ]
  },
  {
   "cell_type": "code",
   "execution_count": 130,
   "metadata": {},
   "outputs": [],
   "source": [
    "for x in np.where(X[:,149] == X[:,149].min()):\n",
    "    X[:,149][x] = 10000"
   ]
  },
  {
   "cell_type": "code",
   "execution_count": 133,
   "metadata": {},
   "outputs": [],
   "source": [
    "new_roi = kbest.fit_transform(X, y)"
   ]
  },
  {
   "cell_type": "code",
   "execution_count": 134,
   "metadata": {},
   "outputs": [
    {
     "data": {
      "text/plain": [
       "(1068, 20)"
      ]
     },
     "execution_count": 134,
     "metadata": {},
     "output_type": "execute_result"
    }
   ],
   "source": [
    "new_roi.shape"
   ]
  },
  {
   "cell_type": "code",
   "execution_count": 135,
   "metadata": {},
   "outputs": [],
   "source": [
    "from matplotlib import pyplot as plt"
   ]
  },
  {
   "cell_type": "code",
   "execution_count": 136,
   "metadata": {},
   "outputs": [
    {
     "data": {
      "text/plain": [
       "<matplotlib.collections.PathCollection at 0x198a7497828>"
      ]
     },
     "execution_count": 136,
     "metadata": {},
     "output_type": "execute_result"
    },
    {
     "data": {
      "image/png": "[encoded data removed]",
      "text/plain": [
       "<Figure size 432x288 with 1 Axes>"
      ]
     },
     "metadata": {
      "needs_background": "light"
     },
     "output_type": "display_data"
    }
   ],
   "source": [
    "plt.scatter(range(0,1068), new_roi[:,0])"
   ]
  },
  {
   "cell_type": "code",
   "execution_count": 137,
   "metadata": {},
   "outputs": [
    {
     "data": {
      "text/plain": [
       "1040.206342053022"
      ]
     },
     "execution_count": 137,
     "metadata": {},
     "output_type": "execute_result"
    }
   ],
   "source": [
    "np.std(new_roi[:,0])"
   ]
  },
  {
   "cell_type": "code",
   "execution_count": 145,
   "metadata": {},
   "outputs": [
    {
     "data": {
      "text/plain": [
       "11074.277153558052"
      ]
     },
     "execution_count": 145,
     "metadata": {},
     "output_type": "execute_result"
    }
   ],
   "source": [
    "np.mean(new_roi[:,0])"
   ]
  },
  {
   "cell_type": "code",
   "execution_count": 139,
   "metadata": {},
   "outputs": [
    {
     "data": {
      "text/plain": [
       "<matplotlib.collections.PathCollection at 0x198a7565780>"
      ]
     },
     "execution_count": 139,
     "metadata": {},
     "output_type": "execute_result"
    },
    {
     "data": {
      "image/png": "[encoded data removed]",
      "text/plain": [
       "<Figure size 432x288 with 1 Axes>"
      ]
     },
     "metadata": {
      "needs_background": "light"
     },
     "output_type": "display_data"
    }
   ],
   "source": [
    "plt.scatter(range(0,1068), new_roi[:,2])"
   ]
  },
  {
   "cell_type": "code",
   "execution_count": 140,
   "metadata": {},
   "outputs": [
    {
     "data": {
      "text/plain": [
       "1019.7170326895146"
      ]
     },
     "execution_count": 140,
     "metadata": {},
     "output_type": "execute_result"
    }
   ],
   "source": [
    "np.std(new_roi[:,2])"
   ]
  },
  {
   "cell_type": "code",
   "execution_count": 141,
   "metadata": {},
   "outputs": [
    {
     "data": {
      "text/plain": [
       "<matplotlib.collections.PathCollection at 0x198a72154e0>"
      ]
     },
     "execution_count": 141,
     "metadata": {},
     "output_type": "execute_result"
    },
    {
     "data": {
      "image/png": "[encoded data removed]",
      "text/plain": [
       "<Figure size 432x288 with 1 Axes>"
      ]
     },
     "metadata": {
      "needs_background": "light"
     },
     "output_type": "display_data"
    }
   ],
   "source": [
    "plt.scatter(range(0,1068), new_roi[:,3])"
   ]
  },
  {
   "cell_type": "code",
   "execution_count": 142,
   "metadata": {},
   "outputs": [
    {
     "data": {
      "text/plain": [
       "1014.2781098001672"
      ]
     },
     "execution_count": 142,
     "metadata": {},
     "output_type": "execute_result"
    }
   ],
   "source": [
    "np.std(new_roi[:,3])"
   ]
  },
  {
   "cell_type": "markdown",
   "metadata": {},
   "source": [
    "### En conclusión, obtuvimos un mejor conjunto de datos con excelentes parámetros"
   ]
  }
 ],
 "metadata": {
  "kernelspec": {
   "display_name": "Python 3",
   "language": "python",
   "name": "python3"
  },
  "language_info": {
   "codemirror_mode": {
    "name": "ipython",
    "version": 3
   },
   "file_extension": ".py",
   "mimetype": "text/x-python",
   "name": "python",
   "nbconvert_exporter": "python",
   "pygments_lexer": "ipython3",
   "version": "3.6.6"
  }
 },
 "nbformat": 4,
 "nbformat_minor": 2
}

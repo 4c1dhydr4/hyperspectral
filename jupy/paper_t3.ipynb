{
 "cells": [
  {
   "cell_type": "markdown",
   "metadata": {},
   "source": [
    "## Resultados: Paper T3"
   ]
  },
  {
   "cell_type": "code",
   "execution_count": 110,
   "metadata": {},
   "outputs": [],
   "source": [
    "import pandas as pd\n",
    "import numpy as np\n",
    "from matplotlib import pyplot as plt\n",
    "from mpl_toolkits.mplot3d import Axes3D"
   ]
  },
  {
   "cell_type": "code",
   "execution_count": 96,
   "metadata": {},
   "outputs": [
    {
     "data": {
      "text/plain": [
       "<Figure size 432x288 with 0 Axes>"
      ]
     },
     "metadata": {},
     "output_type": "display_data"
    }
   ],
   "source": [
    "plt.close('all')\n",
    "plt.figure();\n"
   ]
  },
  {
   "cell_type": "code",
   "execution_count": 149,
   "metadata": {},
   "outputs": [],
   "source": [
    "roi = pd.read_csv('C:\\Developer\\THZ\\paper\\\\test_03\\A.roi.txt', sep='\\t')"
   ]
  },
  {
   "cell_type": "code",
   "execution_count": 150,
   "metadata": {},
   "outputs": [
    {
     "data": {
      "text/html": [
       "<div>\n",
       "<style scoped>\n",
       "    .dataframe tbody tr th:only-of-type {\n",
       "        vertical-align: middle;\n",
       "    }\n",
       "\n",
       "    .dataframe tbody tr th {\n",
       "        vertical-align: top;\n",
       "    }\n",
       "\n",
       "    .dataframe thead th {\n",
       "        text-align: right;\n",
       "    }\n",
       "</style>\n",
       "<table border=\"1\" class=\"dataframe\">\n",
       "  <thead>\n",
       "    <tr style=\"text-align: right;\">\n",
       "      <th></th>\n",
       "      <th>8</th>\n",
       "      <th>16</th>\n",
       "      <th>24</th>\n",
       "      <th>32</th>\n",
       "      <th>40</th>\n",
       "      <th>48</th>\n",
       "      <th>56</th>\n",
       "      <th>64</th>\n",
       "      <th>72</th>\n",
       "      <th>80</th>\n",
       "      <th>...</th>\n",
       "      <th>1136</th>\n",
       "      <th>1144</th>\n",
       "      <th>1152</th>\n",
       "      <th>1160</th>\n",
       "      <th>1168</th>\n",
       "      <th>1176</th>\n",
       "      <th>1184</th>\n",
       "      <th>1192</th>\n",
       "      <th>1200</th>\n",
       "      <th>Unnamed: 150</th>\n",
       "    </tr>\n",
       "  </thead>\n",
       "  <tbody>\n",
       "    <tr>\n",
       "      <th>0</th>\n",
       "      <td>159</td>\n",
       "      <td>181</td>\n",
       "      <td>222</td>\n",
       "      <td>208</td>\n",
       "      <td>247</td>\n",
       "      <td>268</td>\n",
       "      <td>337</td>\n",
       "      <td>339</td>\n",
       "      <td>361</td>\n",
       "      <td>472</td>\n",
       "      <td>...</td>\n",
       "      <td>290</td>\n",
       "      <td>288</td>\n",
       "      <td>234</td>\n",
       "      <td>227</td>\n",
       "      <td>227</td>\n",
       "      <td>223</td>\n",
       "      <td>200</td>\n",
       "      <td>213</td>\n",
       "      <td>190</td>\n",
       "      <td>NaN</td>\n",
       "    </tr>\n",
       "    <tr>\n",
       "      <th>1</th>\n",
       "      <td>159</td>\n",
       "      <td>164</td>\n",
       "      <td>194</td>\n",
       "      <td>226</td>\n",
       "      <td>247</td>\n",
       "      <td>282</td>\n",
       "      <td>298</td>\n",
       "      <td>339</td>\n",
       "      <td>373</td>\n",
       "      <td>418</td>\n",
       "      <td>...</td>\n",
       "      <td>271</td>\n",
       "      <td>233</td>\n",
       "      <td>232</td>\n",
       "      <td>258</td>\n",
       "      <td>257</td>\n",
       "      <td>230</td>\n",
       "      <td>188</td>\n",
       "      <td>211</td>\n",
       "      <td>224</td>\n",
       "      <td>NaN</td>\n",
       "    </tr>\n",
       "    <tr>\n",
       "      <th>2</th>\n",
       "      <td>190</td>\n",
       "      <td>166</td>\n",
       "      <td>180</td>\n",
       "      <td>224</td>\n",
       "      <td>253</td>\n",
       "      <td>271</td>\n",
       "      <td>308</td>\n",
       "      <td>327</td>\n",
       "      <td>352</td>\n",
       "      <td>402</td>\n",
       "      <td>...</td>\n",
       "      <td>283</td>\n",
       "      <td>272</td>\n",
       "      <td>259</td>\n",
       "      <td>223</td>\n",
       "      <td>248</td>\n",
       "      <td>197</td>\n",
       "      <td>216</td>\n",
       "      <td>207</td>\n",
       "      <td>208</td>\n",
       "      <td>NaN</td>\n",
       "    </tr>\n",
       "    <tr>\n",
       "      <th>3</th>\n",
       "      <td>189</td>\n",
       "      <td>187</td>\n",
       "      <td>205</td>\n",
       "      <td>229</td>\n",
       "      <td>312</td>\n",
       "      <td>301</td>\n",
       "      <td>291</td>\n",
       "      <td>323</td>\n",
       "      <td>379</td>\n",
       "      <td>414</td>\n",
       "      <td>...</td>\n",
       "      <td>272</td>\n",
       "      <td>262</td>\n",
       "      <td>231</td>\n",
       "      <td>240</td>\n",
       "      <td>202</td>\n",
       "      <td>233</td>\n",
       "      <td>207</td>\n",
       "      <td>221</td>\n",
       "      <td>185</td>\n",
       "      <td>NaN</td>\n",
       "    </tr>\n",
       "    <tr>\n",
       "      <th>4</th>\n",
       "      <td>171</td>\n",
       "      <td>166</td>\n",
       "      <td>209</td>\n",
       "      <td>253</td>\n",
       "      <td>251</td>\n",
       "      <td>312</td>\n",
       "      <td>321</td>\n",
       "      <td>341</td>\n",
       "      <td>399</td>\n",
       "      <td>407</td>\n",
       "      <td>...</td>\n",
       "      <td>281</td>\n",
       "      <td>239</td>\n",
       "      <td>236</td>\n",
       "      <td>215</td>\n",
       "      <td>234</td>\n",
       "      <td>217</td>\n",
       "      <td>207</td>\n",
       "      <td>204</td>\n",
       "      <td>196</td>\n",
       "      <td>NaN</td>\n",
       "    </tr>\n",
       "  </tbody>\n",
       "</table>\n",
       "<p>5 rows × 151 columns</p>\n",
       "</div>"
      ],
      "text/plain": [
       "     8   16   24   32   40   48   56   64   72   80  ...  1136  1144  1152  \\\n",
       "0  159  181  222  208  247  268  337  339  361  472  ...   290   288   234   \n",
       "1  159  164  194  226  247  282  298  339  373  418  ...   271   233   232   \n",
       "2  190  166  180  224  253  271  308  327  352  402  ...   283   272   259   \n",
       "3  189  187  205  229  312  301  291  323  379  414  ...   272   262   231   \n",
       "4  171  166  209  253  251  312  321  341  399  407  ...   281   239   236   \n",
       "\n",
       "   1160  1168  1176  1184  1192  1200  Unnamed: 150  \n",
       "0   227   227   223   200   213   190           NaN  \n",
       "1   258   257   230   188   211   224           NaN  \n",
       "2   223   248   197   216   207   208           NaN  \n",
       "3   240   202   233   207   221   185           NaN  \n",
       "4   215   234   217   207   204   196           NaN  \n",
       "\n",
       "[5 rows x 151 columns]"
      ]
     },
     "execution_count": 150,
     "metadata": {},
     "output_type": "execute_result"
    }
   ],
   "source": [
    "roi.head()"
   ]
  },
  {
   "cell_type": "code",
   "execution_count": 151,
   "metadata": {},
   "outputs": [
    {
     "data": {
      "text/plain": [
       "(272, 151)"
      ]
     },
     "execution_count": 151,
     "metadata": {},
     "output_type": "execute_result"
    }
   ],
   "source": [
    "roi.shape"
   ]
  },
  {
   "cell_type": "code",
   "execution_count": 152,
   "metadata": {},
   "outputs": [],
   "source": [
    "roi = roi.dropna(axis=1)"
   ]
  },
  {
   "cell_type": "code",
   "execution_count": 161,
   "metadata": {},
   "outputs": [
    {
     "data": {
      "text/plain": [
       "Text(0, 0.5, 'Reflectance')"
      ]
     },
     "execution_count": 161,
     "metadata": {},
     "output_type": "execute_result"
    },
    {
     "data": {
      "image/png": "[encoded data removed]",
      "text/plain": [
       "<Figure size 432x288 with 1 Axes>"
      ]
     },
     "metadata": {
      "needs_background": "light"
     },
     "output_type": "display_data"
    }
   ],
   "source": [
    "# ax = plt.figure().gca(projection='3d')\n",
    "for x in range(0,roi.shape[0]):\n",
    "    ax = roi.iloc[0+x,49:125].plot(title='Perfil Espectral')\n",
    "#     if x%100 == 0:\n",
    "#         ax = roi.iloc[0+x,49:125].plot(title='Perfil Espectral')\n",
    "ax.set_xlabel('Wavelength')\n",
    "ax.set_ylabel('Reflectance')\n"
   ]
  },
  {
   "cell_type": "markdown",
   "metadata": {},
   "source": [
    "## Selección de Variables y Características"
   ]
  },
  {
   "cell_type": "code",
   "execution_count": 162,
   "metadata": {},
   "outputs": [],
   "source": [
    "from sklearn.feature_selection import (SelectKBest, chi2, \n",
    "    mutual_info_classif, f_regression, SelectPercentile)"
   ]
  }
 ],
 "metadata": {
  "kernelspec": {
   "display_name": "Python 3",
   "language": "python",
   "name": "python3"
  },
  "language_info": {
   "codemirror_mode": {
    "name": "ipython",
    "version": 3
   },
   "file_extension": ".py",
   "mimetype": "text/x-python",
   "name": "python",
   "nbconvert_exporter": "python",
   "pygments_lexer": "ipython3",
   "version": "3.6.8"
  }
 },
 "nbformat": 4,
 "nbformat_minor": 2
}

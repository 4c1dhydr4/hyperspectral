{
 "cells": [
  {
   "cell_type": "markdown",
   "metadata": {},
   "source": [
    "# Selección de Variables a ROI"
   ]
  },
  {
   "cell_type": "markdown",
   "metadata": {},
   "source": [
    "#### Iniciamos cargando el set de datos de la ROI y las librerías correspondientes"
   ]
  },
  {
   "cell_type": "code",
   "execution_count": 264,
   "metadata": {},
   "outputs": [],
   "source": [
    "import pandas as pd\n",
    "import numpy as np\n",
    "from sklearn.feature_selection import (SelectKBest, chi2, \n",
    "    mutual_info_classif, f_regression, SelectPercentile)\n",
    "\n",
    "\n",
    "roi = pd.read_csv('test.roi.txt',sep='\\t')"
   ]
  },
  {
   "cell_type": "code",
   "execution_count": 265,
   "metadata": {},
   "outputs": [
    {
     "data": {
      "text/html": [
       "<div>\n",
       "<style scoped>\n",
       "    .dataframe tbody tr th:only-of-type {\n",
       "        vertical-align: middle;\n",
       "    }\n",
       "\n",
       "    .dataframe tbody tr th {\n",
       "        vertical-align: top;\n",
       "    }\n",
       "\n",
       "    .dataframe thead th {\n",
       "        text-align: right;\n",
       "    }\n",
       "</style>\n",
       "<table border=\"1\" class=\"dataframe\">\n",
       "  <thead>\n",
       "    <tr style=\"text-align: right;\">\n",
       "      <th></th>\n",
       "      <th>band_1</th>\n",
       "      <th>band_2</th>\n",
       "      <th>band_3</th>\n",
       "      <th>band_4</th>\n",
       "      <th>band_5</th>\n",
       "      <th>band_6</th>\n",
       "      <th>band_7</th>\n",
       "      <th>band_8</th>\n",
       "      <th>band_9</th>\n",
       "      <th>band_10</th>\n",
       "      <th>...</th>\n",
       "      <th>band_141</th>\n",
       "      <th>band_142</th>\n",
       "      <th>band_143</th>\n",
       "      <th>band_144</th>\n",
       "      <th>band_145</th>\n",
       "      <th>band_146</th>\n",
       "      <th>band_147</th>\n",
       "      <th>band_148</th>\n",
       "      <th>band_149</th>\n",
       "      <th>band_150</th>\n",
       "    </tr>\n",
       "  </thead>\n",
       "  <tbody>\n",
       "    <tr>\n",
       "      <th>0</th>\n",
       "      <td>6218</td>\n",
       "      <td>3633</td>\n",
       "      <td>2933</td>\n",
       "      <td>2281</td>\n",
       "      <td>1731</td>\n",
       "      <td>1313</td>\n",
       "      <td>1168</td>\n",
       "      <td>1209</td>\n",
       "      <td>1189</td>\n",
       "      <td>1173</td>\n",
       "      <td>...</td>\n",
       "      <td>12544</td>\n",
       "      <td>11296</td>\n",
       "      <td>11231</td>\n",
       "      <td>10229</td>\n",
       "      <td>11296</td>\n",
       "      <td>12610</td>\n",
       "      <td>11075</td>\n",
       "      <td>12152</td>\n",
       "      <td>10252</td>\n",
       "      <td>15574.0</td>\n",
       "    </tr>\n",
       "    <tr>\n",
       "      <th>1</th>\n",
       "      <td>3849</td>\n",
       "      <td>2266</td>\n",
       "      <td>1863</td>\n",
       "      <td>1566</td>\n",
       "      <td>1248</td>\n",
       "      <td>884</td>\n",
       "      <td>1018</td>\n",
       "      <td>846</td>\n",
       "      <td>716</td>\n",
       "      <td>686</td>\n",
       "      <td>...</td>\n",
       "      <td>11058</td>\n",
       "      <td>11173</td>\n",
       "      <td>10194</td>\n",
       "      <td>11480</td>\n",
       "      <td>10194</td>\n",
       "      <td>9604</td>\n",
       "      <td>10829</td>\n",
       "      <td>11488</td>\n",
       "      <td>9263</td>\n",
       "      <td>12581.0</td>\n",
       "    </tr>\n",
       "    <tr>\n",
       "      <th>2</th>\n",
       "      <td>3917</td>\n",
       "      <td>3413</td>\n",
       "      <td>2579</td>\n",
       "      <td>2008</td>\n",
       "      <td>1503</td>\n",
       "      <td>998</td>\n",
       "      <td>926</td>\n",
       "      <td>803</td>\n",
       "      <td>744</td>\n",
       "      <td>654</td>\n",
       "      <td>...</td>\n",
       "      <td>10357</td>\n",
       "      <td>10584</td>\n",
       "      <td>9716</td>\n",
       "      <td>10052</td>\n",
       "      <td>10934</td>\n",
       "      <td>11330</td>\n",
       "      <td>11669</td>\n",
       "      <td>12081</td>\n",
       "      <td>13281</td>\n",
       "      <td>7405.0</td>\n",
       "    </tr>\n",
       "    <tr>\n",
       "      <th>3</th>\n",
       "      <td>6371</td>\n",
       "      <td>5722</td>\n",
       "      <td>2476</td>\n",
       "      <td>2027</td>\n",
       "      <td>1562</td>\n",
       "      <td>1219</td>\n",
       "      <td>997</td>\n",
       "      <td>831</td>\n",
       "      <td>710</td>\n",
       "      <td>728</td>\n",
       "      <td>...</td>\n",
       "      <td>11928</td>\n",
       "      <td>10858</td>\n",
       "      <td>11112</td>\n",
       "      <td>10491</td>\n",
       "      <td>11585</td>\n",
       "      <td>12246</td>\n",
       "      <td>11619</td>\n",
       "      <td>11222</td>\n",
       "      <td>9557</td>\n",
       "      <td>11005.0</td>\n",
       "    </tr>\n",
       "    <tr>\n",
       "      <th>4</th>\n",
       "      <td>6679</td>\n",
       "      <td>4595</td>\n",
       "      <td>3794</td>\n",
       "      <td>1677</td>\n",
       "      <td>995</td>\n",
       "      <td>1123</td>\n",
       "      <td>872</td>\n",
       "      <td>702</td>\n",
       "      <td>849</td>\n",
       "      <td>727</td>\n",
       "      <td>...</td>\n",
       "      <td>10617</td>\n",
       "      <td>9774</td>\n",
       "      <td>11274</td>\n",
       "      <td>10031</td>\n",
       "      <td>10004</td>\n",
       "      <td>9790</td>\n",
       "      <td>9994</td>\n",
       "      <td>10055</td>\n",
       "      <td>11053</td>\n",
       "      <td>11251.0</td>\n",
       "    </tr>\n",
       "  </tbody>\n",
       "</table>\n",
       "<p>5 rows × 150 columns</p>\n",
       "</div>"
      ],
      "text/plain": [
       "   band_1  band_2  band_3  band_4  band_5  band_6  band_7  band_8  band_9  \\\n",
       "0    6218    3633    2933    2281    1731    1313    1168    1209    1189   \n",
       "1    3849    2266    1863    1566    1248     884    1018     846     716   \n",
       "2    3917    3413    2579    2008    1503     998     926     803     744   \n",
       "3    6371    5722    2476    2027    1562    1219     997     831     710   \n",
       "4    6679    4595    3794    1677     995    1123     872     702     849   \n",
       "\n",
       "   band_10  ...  band_141  band_142  band_143  band_144  band_145  band_146  \\\n",
       "0     1173  ...     12544     11296     11231     10229     11296     12610   \n",
       "1      686  ...     11058     11173     10194     11480     10194      9604   \n",
       "2      654  ...     10357     10584      9716     10052     10934     11330   \n",
       "3      728  ...     11928     10858     11112     10491     11585     12246   \n",
       "4      727  ...     10617      9774     11274     10031     10004      9790   \n",
       "\n",
       "   band_147  band_148  band_149  band_150  \n",
       "0     11075     12152     10252   15574.0  \n",
       "1     10829     11488      9263   12581.0  \n",
       "2     11669     12081     13281    7405.0  \n",
       "3     11619     11222      9557   11005.0  \n",
       "4      9994     10055     11053   11251.0  \n",
       "\n",
       "[5 rows x 150 columns]"
      ]
     },
     "execution_count": 265,
     "metadata": {},
     "output_type": "execute_result"
    }
   ],
   "source": [
    "roi.head()"
   ]
  },
  {
   "cell_type": "code",
   "execution_count": 287,
   "metadata": {},
   "outputs": [
    {
     "data": {
      "text/plain": [
       "(1068, 150)"
      ]
     },
     "execution_count": 287,
     "metadata": {},
     "output_type": "execute_result"
    }
   ],
   "source": [
    "roi.shape"
   ]
  },
  {
   "cell_type": "code",
   "execution_count": 288,
   "metadata": {},
   "outputs": [
    {
     "data": {
      "text/plain": [
       "band_1      8.745000e+03\n",
       "band_2      5.722000e+03\n",
       "band_3      3.794000e+03\n",
       "band_4      2.342000e+03\n",
       "band_5      1.834000e+03\n",
       "band_6      1.313000e+03\n",
       "band_7      1.168000e+03\n",
       "band_8      1.209000e+03\n",
       "band_9      1.189000e+03\n",
       "band_10     1.173000e+03\n",
       "band_11     1.066000e+03\n",
       "band_12     9.690000e+02\n",
       "band_13     9.890000e+02\n",
       "band_14     8.390000e+02\n",
       "band_15     8.420000e+02\n",
       "band_16     7.700000e+02\n",
       "band_17     7.710000e+02\n",
       "band_18     7.710000e+02\n",
       "band_19     7.580000e+02\n",
       "band_20     7.100000e+02\n",
       "band_21     6.910000e+02\n",
       "band_22     7.050000e+02\n",
       "band_23     7.650000e+02\n",
       "band_24     7.630000e+02\n",
       "band_25     8.320000e+02\n",
       "band_26     9.100000e+02\n",
       "band_27     1.016000e+03\n",
       "band_28     1.219000e+03\n",
       "band_29     1.262000e+03\n",
       "band_30     1.505000e+03\n",
       "                ...     \n",
       "band_121    1.321800e+04\n",
       "band_122    1.320900e+04\n",
       "band_123    1.322400e+04\n",
       "band_124    1.344100e+04\n",
       "band_125    1.354300e+04\n",
       "band_126    1.372700e+04\n",
       "band_127    1.359500e+04\n",
       "band_128    1.159711e+09\n",
       "band_129    1.402600e+04\n",
       "band_130    1.378200e+04\n",
       "band_131    1.393100e+04\n",
       "band_132    1.093311e+09\n",
       "band_133    1.389200e+04\n",
       "band_134    1.427600e+04\n",
       "band_135    1.401400e+04\n",
       "band_136    1.405700e+04\n",
       "band_137    1.459800e+04\n",
       "band_138    1.153213e+09\n",
       "band_139    1.450000e+04\n",
       "band_140    1.488100e+04\n",
       "band_141    9.982109e+08\n",
       "band_142    1.581400e+04\n",
       "band_143    1.508100e+04\n",
       "band_144    1.529200e+04\n",
       "band_145    1.591800e+04\n",
       "band_146    1.504200e+04\n",
       "band_147    1.532800e+04\n",
       "band_148    1.540700e+04\n",
       "band_149    1.137411e+09\n",
       "band_150    1.606300e+04\n",
       "Length: 150, dtype: float64"
      ]
     },
     "execution_count": 288,
     "metadata": {},
     "output_type": "execute_result"
    }
   ],
   "source": [
    "roi.max()"
   ]
  },
  {
   "cell_type": "code",
   "execution_count": 271,
   "metadata": {},
   "outputs": [
    {
     "data": {
      "text/plain": [
       "array([[ 6218,  3633,  2933, ..., 12152, 10252, 15574],\n",
       "       [ 3849,  2266,  1863, ..., 11488,  9263, 12581],\n",
       "       [ 3917,  3413,  2579, ..., 12081, 13281,  7405],\n",
       "       ...,\n",
       "       [ 6767,  2205,  1833, ..., 11382, 10371, 13181],\n",
       "       [ 2776,  2266,  1650, ..., 11918,  8027, 14087],\n",
       "       [ 5370,  2548,  2145, ..., 11227,  7561, 12978]])"
      ]
     },
     "execution_count": 271,
     "metadata": {},
     "output_type": "execute_result"
    }
   ],
   "source": [
    "roi.iloc[:,20:140].shape\n",
    "np.int_(roi.iloc[:,0:150])"
   ]
  },
  {
   "cell_type": "code",
   "execution_count": 272,
   "metadata": {},
   "outputs": [],
   "source": [
    "kbest = SelectKBest(mutual_info_classif, k=20)"
   ]
  },
  {
   "cell_type": "code",
   "execution_count": 273,
   "metadata": {},
   "outputs": [
    {
     "data": {
      "text/plain": [
       "(1068, 20)"
      ]
     },
     "execution_count": 273,
     "metadata": {},
     "output_type": "execute_result"
    }
   ],
   "source": [
    "new_roi = kbest.fit_transform(np.int_(roi.iloc[:,0:150]), np.ones(1068))\n",
    "new_roi.shape"
   ]
  },
  {
   "cell_type": "code",
   "execution_count": 274,
   "metadata": {},
   "outputs": [
    {
     "data": {
      "text/plain": [
       "array([[ 9945, 10638, 10529, ..., 12152, 10252, 15574],\n",
       "       [10185, 10649, 11161, ..., 11488,  9263, 12581],\n",
       "       [10233, 10522, 10331, ..., 12081, 13281,  7405],\n",
       "       ...,\n",
       "       [13090, 12469, 13309, ..., 11382, 10371, 13181],\n",
       "       [13717, 13057, 13774, ..., 11918,  8027, 14087],\n",
       "       [12651, 13019, 13001, ..., 11227,  7561, 12978]])"
      ]
     },
     "execution_count": 274,
     "metadata": {},
     "output_type": "execute_result"
    }
   ],
   "source": [
    "new_roi"
   ]
  },
  {
   "cell_type": "code",
   "execution_count": 275,
   "metadata": {},
   "outputs": [
    {
     "data": {
      "text/plain": [
       "(1068, 150)"
      ]
     },
     "execution_count": 275,
     "metadata": {},
     "output_type": "execute_result"
    }
   ],
   "source": [
    "kbest = SelectKBest(chi2, k=4)\n",
    "X = np.int_(roi.iloc[:,0:150])\n",
    "X.shape"
   ]
  },
  {
   "cell_type": "code",
   "execution_count": 277,
   "metadata": {},
   "outputs": [
    {
     "data": {
      "text/plain": [
       "1159710549"
      ]
     },
     "execution_count": 277,
     "metadata": {},
     "output_type": "execute_result"
    }
   ],
   "source": [
    "X.max()\n"
   ]
  },
  {
   "cell_type": "code",
   "execution_count": 278,
   "metadata": {},
   "outputs": [
    {
     "data": {
      "text/plain": [
       "(1068, 20)"
      ]
     },
     "execution_count": 278,
     "metadata": {},
     "output_type": "execute_result"
    }
   ],
   "source": [
    "new_roi.shape"
   ]
  },
  {
   "cell_type": "code",
   "execution_count": 279,
   "metadata": {},
   "outputs": [
    {
     "data": {
      "text/plain": [
       "array([[ 9945, 10638, 10529, ..., 12152, 10252, 15574],\n",
       "       [10185, 10649, 11161, ..., 11488,  9263, 12581],\n",
       "       [10233, 10522, 10331, ..., 12081, 13281,  7405],\n",
       "       ...,\n",
       "       [13090, 12469, 13309, ..., 11382, 10371, 13181],\n",
       "       [13717, 13057, 13774, ..., 11918,  8027, 14087],\n",
       "       [12651, 13019, 13001, ..., 11227,  7561, 12978]])"
      ]
     },
     "execution_count": 279,
     "metadata": {},
     "output_type": "execute_result"
    }
   ],
   "source": [
    "new_roi"
   ]
  },
  {
   "cell_type": "code",
   "execution_count": 280,
   "metadata": {},
   "outputs": [],
   "source": [
    "from matplotlib import pyplot as plt"
   ]
  },
  {
   "cell_type": "code",
   "execution_count": 281,
   "metadata": {},
   "outputs": [
    {
     "data": {
      "text/plain": [
       "<matplotlib.collections.PathCollection at 0x2ca9efb5da0>"
      ]
     },
     "execution_count": 281,
     "metadata": {},
     "output_type": "execute_result"
    },
    {
     "data": {
      "image/png": "[encoded data removed]",
      "text/plain": [
       "<Figure size 432x288 with 1 Axes>"
      ]
     },
     "metadata": {
      "needs_background": "light"
     },
     "output_type": "display_data"
    }
   ],
   "source": [
    "plt.scatter(new_roi[:,0], range(0,1068))"
   ]
  },
  {
   "cell_type": "code",
   "execution_count": 305,
   "metadata": {},
   "outputs": [
    {
     "data": {
      "text/plain": [
       "<matplotlib.collections.PathCollection at 0x2ca9f27f048>"
      ]
     },
     "execution_count": 305,
     "metadata": {},
     "output_type": "execute_result"
    },
    {
     "data": {
      "image/png": "[encoded data removed]",
      "text/plain": [
       "<Figure size 432x288 with 1 Axes>"
      ]
     },
     "metadata": {
      "needs_background": "light"
     },
     "output_type": "display_data"
    }
   ],
   "source": [
    "new_roi[:,1][479] = 10000\n",
    "plt.scatter(new_roi[:,1], range(0,1068))"
   ]
  },
  {
   "cell_type": "code",
   "execution_count": 283,
   "metadata": {},
   "outputs": [
    {
     "data": {
      "text/plain": [
       "<matplotlib.collections.PathCollection at 0x2ca80279908>"
      ]
     },
     "execution_count": 283,
     "metadata": {},
     "output_type": "execute_result"
    },
    {
     "data": {
      "image/png": "[encoded data removed]",
      "text/plain": [
       "<Figure size 432x288 with 1 Axes>"
      ]
     },
     "metadata": {
      "needs_background": "light"
     },
     "output_type": "display_data"
    }
   ],
   "source": [
    "plt.scatter(new_roi[:,2], range(0,1068))"
   ]
  },
  {
   "cell_type": "code",
   "execution_count": 284,
   "metadata": {},
   "outputs": [
    {
     "data": {
      "text/plain": [
       "<matplotlib.collections.PathCollection at 0x2ca8034d8d0>"
      ]
     },
     "execution_count": 284,
     "metadata": {},
     "output_type": "execute_result"
    },
    {
     "data": {
      "image/png": "[encoded data removed]",
      "text/plain": [
       "<Figure size 432x288 with 1 Axes>"
      ]
     },
     "metadata": {
      "needs_background": "light"
     },
     "output_type": "display_data"
    }
   ],
   "source": [
    "plt.scatter(new_roi[:,3], range(0,1068))"
   ]
  }
 ],
 "metadata": {
  "kernelspec": {
   "display_name": "Python 3",
   "language": "python",
   "name": "python3"
  },
  "language_info": {
   "codemirror_mode": {
    "name": "ipython",
    "version": 3
   },
   "file_extension": ".py",
   "mimetype": "text/x-python",
   "name": "python",
   "nbconvert_exporter": "python",
   "pygments_lexer": "ipython3",
   "version": "3.6.8"
  }
 },
 "nbformat": 4,
 "nbformat_minor": 2
}
